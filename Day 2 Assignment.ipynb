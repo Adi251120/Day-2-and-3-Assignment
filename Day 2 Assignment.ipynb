{
  "nbformat": 4,
  "nbformat_minor": 0,
  "metadata": {
    "colab": {
      "name": "Untitled0.ipynb",
      "provenance": [],
      "collapsed_sections": []
    },
    "kernelspec": {
      "name": "python3",
      "display_name": "Python 3"
    },
    "language_info": {
      "name": "python"
    }
  },
  "cells": [
    {
      "cell_type": "code",
      "metadata": {
        "colab": {
          "base_uri": "https://localhost:8080/"
        },
        "id": "YQOW1Lo5vB71",
        "outputId": "edc4dace-747e-4644-e8e5-f3a16204ff9d"
      },
      "source": [
        "import numpy as np\n",
        "\n",
        "\n",
        "lst1 = [1,2,3,4,5]\n",
        "lst2 = [2,3,4,5,6]\n",
        "lst3 = [4,5,6,7,8]\n",
        "\n",
        "arr1 = np.array([lst1, lst2, lst3])\n",
        "arr1"
      ],
      "execution_count": 6,
      "outputs": [
        {
          "output_type": "execute_result",
          "data": {
            "text/plain": [
              "array([[1, 2, 3, 4, 5],\n",
              "       [2, 3, 4, 5, 6],\n",
              "       [4, 5, 6, 7, 8]])"
            ]
          },
          "metadata": {},
          "execution_count": 6
        }
      ]
    },
    {
      "cell_type": "code",
      "metadata": {
        "colab": {
          "base_uri": "https://localhost:8080/"
        },
        "id": "bFNrIZiCiiWm",
        "outputId": "f9af7a98-0cec-4285-984f-15644dce0cdc"
      },
      "source": [
        "arr1[1:3,1:3]"
      ],
      "execution_count": 39,
      "outputs": [
        {
          "output_type": "execute_result",
          "data": {
            "text/plain": [
              "array([[3, 4],\n",
              "       [5, 6]])"
            ]
          },
          "metadata": {},
          "execution_count": 39
        }
      ]
    }
  ]
}